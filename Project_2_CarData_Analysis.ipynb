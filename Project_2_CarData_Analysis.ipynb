{
 "cells": [
  {
   "cell_type": "markdown",
   "id": "1e8443e0",
   "metadata": {},
   "source": [
    "# DATA ANALYSIS WITH CAR DATASET"
   ]
  },
  {
   "cell_type": "code",
   "execution_count": null,
   "id": "2c163130",
   "metadata": {},
   "outputs": [],
   "source": []
  }
 ],
 "metadata": {
  "language_info": {
   "name": "python"
  }
 },
 "nbformat": 4,
 "nbformat_minor": 5
}
